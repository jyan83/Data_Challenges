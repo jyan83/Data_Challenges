{
  "nbformat": 4,
  "nbformat_minor": 0,
  "metadata": {
    "colab": {
      "name": "Jin_Yan_Yammer.ipynb",
      "provenance": [],
      "collapsed_sections": []
    },
    "kernelspec": {
      "name": "python3",
      "display_name": "Python 3"
    }
  },
  "cells": [
    {
      "cell_type": "markdown",
      "metadata": {
        "id": "7bAqmV1853cy",
        "colab_type": "text"
      },
      "source": [
        "# Yammer\n",
        "\n",
        "## Introduction\n",
        "### Problem\n",
        "The social network, Yammer, has a drop in the latest activity on the user engagement dashboards. This is an investigation of what is the causes of drop in user engagement and what are the corresponding solutions.\n",
        "\n",
        "### Approach\n",
        "Analyze the events, emails, devices by comparing the month differences to invetigate the cause of drop in engagement.\n",
        "\n",
        "### Result\n",
        "\n",
        "\n",
        "*   Users are not likly to log in the website, might be a new feature distributed in July that people don't like it.\n",
        "*   The sent weekly digest emails has a drop, also the click rate has a drop. The marketing team might want to investigate the content.\n",
        "\n"
      ]
    },
    {
      "cell_type": "markdown",
      "metadata": {
        "id": "WqZuWhfL_cqH",
        "colab_type": "text"
      },
      "source": [
        "## Data Preparation\n",
        "### Overview of the tables"
      ]
    },
    {
      "cell_type": "code",
      "metadata": {
        "id": "QiR7Zv35vnIj",
        "colab_type": "code",
        "colab": {}
      },
      "source": [
        "# Load modules\n",
        "import pandas as pd\n",
        "import numpy as np\n",
        "from datetime import datetime, date\n",
        "import matplotlib.pyplot as plt\n"
      ],
      "execution_count": 1,
      "outputs": []
    },
    {
      "cell_type": "markdown",
      "metadata": {
        "id": "YIFxigDuR67T",
        "colab_type": "text"
      },
      "source": [
        "This table includes one row per user, with descriptive information about that user’s account.\n",
        "![alt text](https://github.com/jyan83/Data_Challenges/blob/master/Yammer/users.PNG?raw=true)"
      ]
    },
    {
      "cell_type": "code",
      "metadata": {
        "id": "kapGZOLHFoWy",
        "colab_type": "code",
        "colab": {
          "base_uri": "https://localhost:8080/",
          "height": 204
        },
        "outputId": "8642d3a8-6fc7-4ed4-be16-ae72e5690594"
      },
      "source": [
        "# Import user table\n",
        "url = \"https://raw.githubusercontent.com/jyan83/Data_Challenges/master/Yammer/yammer_users.csv\"\n",
        "df_users = pd.read_csv(url)\n",
        "df_users.head()"
      ],
      "execution_count": 2,
      "outputs": [
        {
          "output_type": "execute_result",
          "data": {
            "text/html": [
              "<div>\n",
              "<style scoped>\n",
              "    .dataframe tbody tr th:only-of-type {\n",
              "        vertical-align: middle;\n",
              "    }\n",
              "\n",
              "    .dataframe tbody tr th {\n",
              "        vertical-align: top;\n",
              "    }\n",
              "\n",
              "    .dataframe thead th {\n",
              "        text-align: right;\n",
              "    }\n",
              "</style>\n",
              "<table border=\"1\" class=\"dataframe\">\n",
              "  <thead>\n",
              "    <tr style=\"text-align: right;\">\n",
              "      <th></th>\n",
              "      <th>user_id</th>\n",
              "      <th>created_at</th>\n",
              "      <th>company_id</th>\n",
              "      <th>language</th>\n",
              "      <th>activated_at</th>\n",
              "      <th>state</th>\n",
              "    </tr>\n",
              "  </thead>\n",
              "  <tbody>\n",
              "    <tr>\n",
              "      <th>0</th>\n",
              "      <td>0.0</td>\n",
              "      <td>2013-01-01 20:59:39</td>\n",
              "      <td>5737.0</td>\n",
              "      <td>english</td>\n",
              "      <td>2013-01-01 21:01:07</td>\n",
              "      <td>active</td>\n",
              "    </tr>\n",
              "    <tr>\n",
              "      <th>1</th>\n",
              "      <td>1.0</td>\n",
              "      <td>2013-01-01 13:07:46</td>\n",
              "      <td>28.0</td>\n",
              "      <td>english</td>\n",
              "      <td>NaN</td>\n",
              "      <td>pending</td>\n",
              "    </tr>\n",
              "    <tr>\n",
              "      <th>2</th>\n",
              "      <td>2.0</td>\n",
              "      <td>2013-01-01 10:59:05</td>\n",
              "      <td>51.0</td>\n",
              "      <td>english</td>\n",
              "      <td>NaN</td>\n",
              "      <td>pending</td>\n",
              "    </tr>\n",
              "    <tr>\n",
              "      <th>3</th>\n",
              "      <td>3.0</td>\n",
              "      <td>2013-01-01 18:40:36</td>\n",
              "      <td>2800.0</td>\n",
              "      <td>german</td>\n",
              "      <td>2013-01-01 18:42:02</td>\n",
              "      <td>active</td>\n",
              "    </tr>\n",
              "    <tr>\n",
              "      <th>4</th>\n",
              "      <td>4.0</td>\n",
              "      <td>2013-01-01 14:37:51</td>\n",
              "      <td>5110.0</td>\n",
              "      <td>indian</td>\n",
              "      <td>2013-01-01 14:39:05</td>\n",
              "      <td>active</td>\n",
              "    </tr>\n",
              "  </tbody>\n",
              "</table>\n",
              "</div>"
            ],
            "text/plain": [
              "   user_id           created_at  ...         activated_at    state\n",
              "0      0.0  2013-01-01 20:59:39  ...  2013-01-01 21:01:07   active\n",
              "1      1.0  2013-01-01 13:07:46  ...                  NaN  pending\n",
              "2      2.0  2013-01-01 10:59:05  ...                  NaN  pending\n",
              "3      3.0  2013-01-01 18:40:36  ...  2013-01-01 18:42:02   active\n",
              "4      4.0  2013-01-01 14:37:51  ...  2013-01-01 14:39:05   active\n",
              "\n",
              "[5 rows x 6 columns]"
            ]
          },
          "metadata": {
            "tags": []
          },
          "execution_count": 2
        }
      ]
    },
    {
      "cell_type": "markdown",
      "metadata": {
        "id": "nH4YLy4fTy0l",
        "colab_type": "text"
      },
      "source": [
        "This table includes one row per event, where an event is an action that a user has taken on Yammer. These events include login events, messaging events, search events, events logged as users progress through a signup funnel, events around received emails.\n",
        "![alt text](https://github.com/jyan83/Data_Challenges/blob/master/Yammer/events.PNG?raw=true)"
      ]
    },
    {
      "cell_type": "code",
      "metadata": {
        "id": "a_nigvJcC8mj",
        "colab_type": "code",
        "colab": {
          "base_uri": "https://localhost:8080/",
          "height": 204
        },
        "outputId": "bb742de7-8565-4b02-bd43-7679e7656fc1"
      },
      "source": [
        "# Import events table\n",
        "url = \"https://raw.githubusercontent.com/jyan83/Data_Challenges/master/Yammer/yammer_events.csv\"\n",
        "df_events = pd.read_csv(url)\n",
        "df_events.head()"
      ],
      "execution_count": 3,
      "outputs": [
        {
          "output_type": "execute_result",
          "data": {
            "text/html": [
              "<div>\n",
              "<style scoped>\n",
              "    .dataframe tbody tr th:only-of-type {\n",
              "        vertical-align: middle;\n",
              "    }\n",
              "\n",
              "    .dataframe tbody tr th {\n",
              "        vertical-align: top;\n",
              "    }\n",
              "\n",
              "    .dataframe thead th {\n",
              "        text-align: right;\n",
              "    }\n",
              "</style>\n",
              "<table border=\"1\" class=\"dataframe\">\n",
              "  <thead>\n",
              "    <tr style=\"text-align: right;\">\n",
              "      <th></th>\n",
              "      <th>user_id</th>\n",
              "      <th>occurred_at</th>\n",
              "      <th>event_type</th>\n",
              "      <th>event_name</th>\n",
              "      <th>location</th>\n",
              "      <th>device</th>\n",
              "      <th>user_type</th>\n",
              "    </tr>\n",
              "  </thead>\n",
              "  <tbody>\n",
              "    <tr>\n",
              "      <th>0</th>\n",
              "      <td>10522.0</td>\n",
              "      <td>2014-05-02 11:02:39</td>\n",
              "      <td>engagement</td>\n",
              "      <td>login</td>\n",
              "      <td>Japan</td>\n",
              "      <td>dell inspiron notebook</td>\n",
              "      <td>3.0</td>\n",
              "    </tr>\n",
              "    <tr>\n",
              "      <th>1</th>\n",
              "      <td>10522.0</td>\n",
              "      <td>2014-05-02 11:02:53</td>\n",
              "      <td>engagement</td>\n",
              "      <td>home_page</td>\n",
              "      <td>Japan</td>\n",
              "      <td>dell inspiron notebook</td>\n",
              "      <td>3.0</td>\n",
              "    </tr>\n",
              "    <tr>\n",
              "      <th>2</th>\n",
              "      <td>10522.0</td>\n",
              "      <td>2014-05-02 11:03:28</td>\n",
              "      <td>engagement</td>\n",
              "      <td>like_message</td>\n",
              "      <td>Japan</td>\n",
              "      <td>dell inspiron notebook</td>\n",
              "      <td>3.0</td>\n",
              "    </tr>\n",
              "    <tr>\n",
              "      <th>3</th>\n",
              "      <td>10522.0</td>\n",
              "      <td>2014-05-02 11:04:09</td>\n",
              "      <td>engagement</td>\n",
              "      <td>view_inbox</td>\n",
              "      <td>Japan</td>\n",
              "      <td>dell inspiron notebook</td>\n",
              "      <td>3.0</td>\n",
              "    </tr>\n",
              "    <tr>\n",
              "      <th>4</th>\n",
              "      <td>10522.0</td>\n",
              "      <td>2014-05-02 11:03:16</td>\n",
              "      <td>engagement</td>\n",
              "      <td>search_run</td>\n",
              "      <td>Japan</td>\n",
              "      <td>dell inspiron notebook</td>\n",
              "      <td>3.0</td>\n",
              "    </tr>\n",
              "  </tbody>\n",
              "</table>\n",
              "</div>"
            ],
            "text/plain": [
              "   user_id          occurred_at  ...                  device user_type\n",
              "0  10522.0  2014-05-02 11:02:39  ...  dell inspiron notebook       3.0\n",
              "1  10522.0  2014-05-02 11:02:53  ...  dell inspiron notebook       3.0\n",
              "2  10522.0  2014-05-02 11:03:28  ...  dell inspiron notebook       3.0\n",
              "3  10522.0  2014-05-02 11:04:09  ...  dell inspiron notebook       3.0\n",
              "4  10522.0  2014-05-02 11:03:16  ...  dell inspiron notebook       3.0\n",
              "\n",
              "[5 rows x 7 columns]"
            ]
          },
          "metadata": {
            "tags": []
          },
          "execution_count": 3
        }
      ]
    },
    {
      "cell_type": "markdown",
      "metadata": {
        "id": "ScFrRESzY8OE",
        "colab_type": "text"
      },
      "source": [
        "This table contains events specific to the sending of emails. It is similar in structure to the events table above.\n",
        "![alt text](https://github.com/jyan83/Data_Challenges/blob/master/Yammer/emails.PNG?raw=true)"
      ]
    },
    {
      "cell_type": "code",
      "metadata": {
        "id": "vlxEsoPH0V4s",
        "colab_type": "code",
        "colab": {
          "base_uri": "https://localhost:8080/",
          "height": 204
        },
        "outputId": "df1ae3de-c736-4f63-e23a-fbacd7c0a1f3"
      },
      "source": [
        "# Import emails table\n",
        "url = \"https://raw.githubusercontent.com/jyan83/Data_Challenges/master/Yammer/yammer_emails.csv\"\n",
        "df_emails = pd.read_csv(url)\n",
        "df_emails.head()"
      ],
      "execution_count": 4,
      "outputs": [
        {
          "output_type": "execute_result",
          "data": {
            "text/html": [
              "<div>\n",
              "<style scoped>\n",
              "    .dataframe tbody tr th:only-of-type {\n",
              "        vertical-align: middle;\n",
              "    }\n",
              "\n",
              "    .dataframe tbody tr th {\n",
              "        vertical-align: top;\n",
              "    }\n",
              "\n",
              "    .dataframe thead th {\n",
              "        text-align: right;\n",
              "    }\n",
              "</style>\n",
              "<table border=\"1\" class=\"dataframe\">\n",
              "  <thead>\n",
              "    <tr style=\"text-align: right;\">\n",
              "      <th></th>\n",
              "      <th>user_id</th>\n",
              "      <th>occurred_at</th>\n",
              "      <th>action</th>\n",
              "      <th>user_type</th>\n",
              "    </tr>\n",
              "  </thead>\n",
              "  <tbody>\n",
              "    <tr>\n",
              "      <th>0</th>\n",
              "      <td>0.0</td>\n",
              "      <td>2014-05-06 09:30:00</td>\n",
              "      <td>sent_weekly_digest</td>\n",
              "      <td>1.0</td>\n",
              "    </tr>\n",
              "    <tr>\n",
              "      <th>1</th>\n",
              "      <td>0.0</td>\n",
              "      <td>2014-05-13 09:30:00</td>\n",
              "      <td>sent_weekly_digest</td>\n",
              "      <td>1.0</td>\n",
              "    </tr>\n",
              "    <tr>\n",
              "      <th>2</th>\n",
              "      <td>0.0</td>\n",
              "      <td>2014-05-20 09:30:00</td>\n",
              "      <td>sent_weekly_digest</td>\n",
              "      <td>1.0</td>\n",
              "    </tr>\n",
              "    <tr>\n",
              "      <th>3</th>\n",
              "      <td>0.0</td>\n",
              "      <td>2014-05-27 09:30:00</td>\n",
              "      <td>sent_weekly_digest</td>\n",
              "      <td>1.0</td>\n",
              "    </tr>\n",
              "    <tr>\n",
              "      <th>4</th>\n",
              "      <td>0.0</td>\n",
              "      <td>2014-06-03 09:30:00</td>\n",
              "      <td>sent_weekly_digest</td>\n",
              "      <td>1.0</td>\n",
              "    </tr>\n",
              "  </tbody>\n",
              "</table>\n",
              "</div>"
            ],
            "text/plain": [
              "   user_id          occurred_at              action  user_type\n",
              "0      0.0  2014-05-06 09:30:00  sent_weekly_digest        1.0\n",
              "1      0.0  2014-05-13 09:30:00  sent_weekly_digest        1.0\n",
              "2      0.0  2014-05-20 09:30:00  sent_weekly_digest        1.0\n",
              "3      0.0  2014-05-27 09:30:00  sent_weekly_digest        1.0\n",
              "4      0.0  2014-06-03 09:30:00  sent_weekly_digest        1.0"
            ]
          },
          "metadata": {
            "tags": []
          },
          "execution_count": 4
        }
      ]
    },
    {
      "cell_type": "markdown",
      "metadata": {
        "id": "n8-lUqRaZDP4",
        "colab_type": "text"
      },
      "source": [
        "The final table is a lookup table that is used to create rolling time periods. Though you could use\n",
        "the INTERVAL() function, creating rolling time periods is often easiest with a table like this. You\n",
        "won't necessarily need to use this table in queries that you write, but the column descriptions\n",
        "are provided here so that you can understand the query that creates the chart shown above.\n",
        "\n",
        "![alt text](https://github.com/jyan83/Data_Challenges/blob/master/Yammer/rollup.PNG?raw=true)"
      ]
    },
    {
      "cell_type": "code",
      "metadata": {
        "id": "HDa5XJjyF0gD",
        "colab_type": "code",
        "colab": {
          "base_uri": "https://localhost:8080/",
          "height": 204
        },
        "outputId": "19d40f06-c1c0-41ae-b80f-e5354931d636"
      },
      "source": [
        "# Import Rollup Periods table\n",
        "url = \"https://raw.githubusercontent.com/jyan83/Data_Challenges/master/Yammer/dimension_rollup_periods.csv\"\n",
        "df_rollup = pd.read_csv(url)\n",
        "df_rollup.head()"
      ],
      "execution_count": 5,
      "outputs": [
        {
          "output_type": "execute_result",
          "data": {
            "text/html": [
              "<div>\n",
              "<style scoped>\n",
              "    .dataframe tbody tr th:only-of-type {\n",
              "        vertical-align: middle;\n",
              "    }\n",
              "\n",
              "    .dataframe tbody tr th {\n",
              "        vertical-align: top;\n",
              "    }\n",
              "\n",
              "    .dataframe thead th {\n",
              "        text-align: right;\n",
              "    }\n",
              "</style>\n",
              "<table border=\"1\" class=\"dataframe\">\n",
              "  <thead>\n",
              "    <tr style=\"text-align: right;\">\n",
              "      <th></th>\n",
              "      <th>period_id</th>\n",
              "      <th>time_id</th>\n",
              "      <th>pst_start</th>\n",
              "      <th>pst_end</th>\n",
              "      <th>utc_start</th>\n",
              "      <th>utc_end</th>\n",
              "    </tr>\n",
              "  </thead>\n",
              "  <tbody>\n",
              "    <tr>\n",
              "      <th>0</th>\n",
              "      <td>1.0</td>\n",
              "      <td>2013-01-01 00:00:00</td>\n",
              "      <td>2013-01-01 00:00:00</td>\n",
              "      <td>2013-01-02 00:00:00</td>\n",
              "      <td>2013-01-01 08:00:00</td>\n",
              "      <td>2013-01-02 08:00:00</td>\n",
              "    </tr>\n",
              "    <tr>\n",
              "      <th>1</th>\n",
              "      <td>1.0</td>\n",
              "      <td>2013-01-02 00:00:00</td>\n",
              "      <td>2013-01-02 00:00:00</td>\n",
              "      <td>2013-01-03 00:00:00</td>\n",
              "      <td>2013-01-02 08:00:00</td>\n",
              "      <td>2013-01-03 08:00:00</td>\n",
              "    </tr>\n",
              "    <tr>\n",
              "      <th>2</th>\n",
              "      <td>1.0</td>\n",
              "      <td>2013-01-03 00:00:00</td>\n",
              "      <td>2013-01-03 00:00:00</td>\n",
              "      <td>2013-01-04 00:00:00</td>\n",
              "      <td>2013-01-03 08:00:00</td>\n",
              "      <td>2013-01-04 08:00:00</td>\n",
              "    </tr>\n",
              "    <tr>\n",
              "      <th>3</th>\n",
              "      <td>1.0</td>\n",
              "      <td>2013-01-04 00:00:00</td>\n",
              "      <td>2013-01-04 00:00:00</td>\n",
              "      <td>2013-01-05 00:00:00</td>\n",
              "      <td>2013-01-04 08:00:00</td>\n",
              "      <td>2013-01-05 08:00:00</td>\n",
              "    </tr>\n",
              "    <tr>\n",
              "      <th>4</th>\n",
              "      <td>1.0</td>\n",
              "      <td>2013-01-05 00:00:00</td>\n",
              "      <td>2013-01-05 00:00:00</td>\n",
              "      <td>2013-01-06 00:00:00</td>\n",
              "      <td>2013-01-05 08:00:00</td>\n",
              "      <td>2013-01-06 08:00:00</td>\n",
              "    </tr>\n",
              "  </tbody>\n",
              "</table>\n",
              "</div>"
            ],
            "text/plain": [
              "   period_id              time_id  ...            utc_start              utc_end\n",
              "0        1.0  2013-01-01 00:00:00  ...  2013-01-01 08:00:00  2013-01-02 08:00:00\n",
              "1        1.0  2013-01-02 00:00:00  ...  2013-01-02 08:00:00  2013-01-03 08:00:00\n",
              "2        1.0  2013-01-03 00:00:00  ...  2013-01-03 08:00:00  2013-01-04 08:00:00\n",
              "3        1.0  2013-01-04 00:00:00  ...  2013-01-04 08:00:00  2013-01-05 08:00:00\n",
              "4        1.0  2013-01-05 00:00:00  ...  2013-01-05 08:00:00  2013-01-06 08:00:00\n",
              "\n",
              "[5 rows x 6 columns]"
            ]
          },
          "metadata": {
            "tags": []
          },
          "execution_count": 5
        }
      ]
    },
    {
      "cell_type": "markdown",
      "metadata": {
        "id": "1C_WCG5YWAKU",
        "colab_type": "text"
      },
      "source": [
        "### List of possible problems\n",
        "* Losing old customer or new customer?\n",
        "* Might be a holiday?\n",
        "* Do you have a new product coming out?\n",
        "* Does the marketing team changed the strategy?\n",
        "* Features cannot display well in somewhere?\n",
        "* Is data collected corretly?\n",
        "\n",
        "#### Analysis 1 - Losing old customer or new customer?"
      ]
    },
    {
      "cell_type": "code",
      "metadata": {
        "id": "vy3CbZ0MV_1H",
        "colab_type": "code",
        "colab": {
          "base_uri": "https://localhost:8080/",
          "height": 329
        },
        "outputId": "9c932bdb-8c68-4833-bc09-52d050013d9e"
      },
      "source": [
        "# Keep only date part\n",
        "df_users['activated_at']= pd.to_datetime(df_users['activated_at']).dt.date\n",
        "df_users['created_at']=pd.to_datetime(df_users.created_at).dt.date\n",
        "\n",
        "# select the time period for investiagtion\n",
        "time_selected=df_users[(df_users.created_at >= date(2014,5,1)) & (df_users.created_at <= date(2014,9,2))]\n",
        "\n",
        "# Visualize the users that are active at this period & first signup users\n",
        "activated_at_series=time_selected.groupby('created_at')['activated_at'].count()\n",
        "user_id_series=time_selected.groupby('created_at')['user_id'].count()\n",
        "\n",
        "plt.figure()\n",
        "plt.plot(activated_at_series, label = 'activated users')\n",
        "plt.plot(activated_at_series.rolling(7).mean(), linestyle = '--', label= 'activated users MA 7 days')\n",
        "plt.plot(user_id_series, label = 'first sign up')\n",
        "plt.plot(user_id_series.rolling(7).mean(), linestyle = '--', label= 'first sign up MA 7 days')\n",
        "plt.xticks(rotation=90)\n",
        "plt.title('date from ' + str(date(2014,5,1)) + ' to ' +  str(date(2014,9,2)))\n",
        "plt.legend(loc='best')\n",
        "plt.show()"
      ],
      "execution_count": 6,
      "outputs": [
        {
          "output_type": "display_data",
          "data": {
            "image/png": "[encoded data removed]",
            "text/plain": [
              "<Figure size 432x288 with 1 Axes>"
            ]
          },
          "metadata": {
            "tags": [],
            "needs_background": "light"
          }
        }
      ]
    },
    {
      "cell_type": "markdown",
      "metadata": {
        "id": "gr40e29wX5G1",
        "colab_type": "text"
      },
      "source": [
        "From the above plot, it can be seen that both new and old customers have dropped around the beginning of Aug. We can group all of these customers together to see what is the cause.\n",
        "\n",
        "#### Analysis 2 - Might be a holiday?"
      ]
    },
    {
      "cell_type": "code",
      "metadata": {
        "id": "rNkT3COOYMCh",
        "colab_type": "code",
        "colab": {
          "base_uri": "https://localhost:8080/",
          "height": 187
        },
        "outputId": "a655e478-23a7-49f5-e222-e7ac77549567"
      },
      "source": [
        "# Import holidays\n",
        "import holidays\n",
        "US_holidays = sorted(holidays.US(years=2014).items())\n",
        "US_holidays"
      ],
      "execution_count": 7,
      "outputs": [
        {
          "output_type": "execute_result",
          "data": {
            "text/plain": [
              "[(datetime.date(2014, 1, 1), \"New Year's Day\"),\n",
              " (datetime.date(2014, 1, 20), 'Martin Luther King, Jr. Day'),\n",
              " (datetime.date(2014, 2, 17), \"Washington's Birthday\"),\n",
              " (datetime.date(2014, 5, 26), 'Memorial Day'),\n",
              " (datetime.date(2014, 7, 4), 'Independence Day'),\n",
              " (datetime.date(2014, 9, 1), 'Labor Day'),\n",
              " (datetime.date(2014, 10, 13), 'Columbus Day'),\n",
              " (datetime.date(2014, 11, 11), 'Veterans Day'),\n",
              " (datetime.date(2014, 11, 27), 'Thanksgiving'),\n",
              " (datetime.date(2014, 12, 25), 'Christmas Day')]"
            ]
          },
          "metadata": {
            "tags": []
          },
          "execution_count": 7
        }
      ]
    },
    {
      "cell_type": "markdown",
      "metadata": {
        "id": "LPVapNheZ4xR",
        "colab_type": "text"
      },
      "source": [
        "No holiday near Aug, thus, it is not caused by holiday event.\n",
        "\n",
        "#### Analysis 3 Do you have a new product coming out?\n",
        "\n",
        "Notice that there are several devices that used to log the event.\n"
      ]
    },
    {
      "cell_type": "code",
      "metadata": {
        "id": "Z35lb9FXaH9L",
        "colab_type": "code",
        "colab": {
          "base_uri": "https://localhost:8080/",
          "height": 383
        },
        "outputId": "0112aa35-aecd-4abe-a7da-d1083122b1e2"
      },
      "source": [
        "# get the list of events\n",
        "event_list = set(df_events['event_name'])\n",
        "\n",
        "# transfer dates\n",
        "df_events['occurred_at']= pd.to_datetime(df_events['occurred_at']).dt.date\n",
        "\n",
        "# select the time period for investiagtion\n",
        "time_selected_5 = df_events[(df_events.occurred_at >= date(2014,5,1)) & (df_events.occurred_at <= date(2014,6,1))]\n",
        "time_selected_6 = df_events[(df_events.occurred_at >= date(2014,6,1)) & (df_events.occurred_at <= date(2014,7,1))]\n",
        "time_selected_7 = df_events[(df_events.occurred_at >= date(2014,7,1)) & (df_events.occurred_at <= date(2014,8,1))]\n",
        "time_selected_8 = df_events[(df_events.occurred_at >= date(2014,8,1)) & (df_events.occurred_at <= date(2014,9,1))]\n",
        "\n",
        "# get the events counts at the selected months\n",
        "activated_at_series_5=time_selected_5['event_name'].value_counts()\n",
        "activated_at_series_6=time_selected_6['event_name'].value_counts()\n",
        "activated_at_series_7=time_selected_7['event_name'].value_counts()\n",
        "activated_at_series_8=time_selected_8['event_name'].value_counts()\n",
        "\n",
        "x = np.arange(len(event_list))\n",
        "ax = plt.subplot(111)\n",
        "plt.bar(x-0.4, activated_at_series_5.values, width=0.2, color='y', align='center')\n",
        "plt.bar(x-0.2, activated_at_series_6.values, width=0.2, color='b', align='center')\n",
        "plt.bar(x,activated_at_series_7.values, width=0.2, color='g', align='center')\n",
        "plt.bar(x+0.2, activated_at_series_8.values, width=0.2, color='r', align='center')\n",
        "plt.xticks(x, activated_at_series_5.index)\n",
        "plt.xticks(rotation=90)\n",
        "plt.title('event counts difference')\n",
        "plt.legend(('May','June', 'July', 'Aug'))\n",
        "plt.show()"
      ],
      "execution_count": 8,
      "outputs": [
        {
          "output_type": "display_data",
          "data": {
            "image/png": "[encoded data removed]",
            "text/plain": [
              "<Figure size 432x288 with 1 Axes>"
            ]
          },
          "metadata": {
            "tags": [],
            "needs_background": "light"
          }
        }
      ]
    },
    {
      "cell_type": "markdown",
      "metadata": {
        "id": "tEG6ZHa2qv56",
        "colab_type": "text"
      },
      "source": [
        "It is seen from the difference that the between July and Aug, user loads the home page significant dropped which respresents that people don't want to log in. Also, there is a spike from June to July. Following some important features that reflects the user engagements indicate the same pattern. There is a possibility that some new function has been published in July, but users spent some effort to try the new features but don't like it and left."
      ]
    },
    {
      "cell_type": "markdown",
      "metadata": {
        "id": "x9ysi9aHtBTi",
        "colab_type": "text"
      },
      "source": [
        "#### Analysis 4  Does the marketing team changed the strategy?\n",
        "From the given tables, marketing team may send emails to attract new and old customers. Investigate the emails events and what are the actions might help gain insight.\n"
      ]
    },
    {
      "cell_type": "code",
      "metadata": {
        "id": "AQLP3kaStGLi",
        "colab_type": "code",
        "colab": {
          "base_uri": "https://localhost:8080/",
          "height": 281
        },
        "outputId": "55bfcb8a-0d3d-4743-b7f5-a6fa78481125"
      },
      "source": [
        "## Email\n",
        "df_emails['occurred_at']= pd.to_datetime(df_emails['occurred_at']).dt.date\n",
        "\n",
        "# preset actions values for the four months\n",
        "weekly = []\n",
        "email_open = []\n",
        "email_click = []\n",
        "\n",
        "# get the action counts for the four months\n",
        "for i in range(4):\n",
        "    if i == 0:\n",
        "        emails = df_emails[(df_emails.occurred_at >= date(2014,5,1)) & (df_emails.occurred_at <= date(2014,6,1))]\n",
        "    elif i == 1:\n",
        "        emails = df_emails[(df_emails.occurred_at >= date(2014,6,1)) & (df_emails.occurred_at <= date(2014,7,1))]\n",
        "    elif i == 2:\n",
        "        emails = df_emails[(df_emails.occurred_at >= date(2014,7,1)) & (df_emails.occurred_at <= date(2014,8,1))]\n",
        "    elif i == 3:\n",
        "        emails = df_emails[(df_emails.occurred_at >= date(2014,8,1)) & (df_emails.occurred_at <= date(2014,9,1))]\n",
        "    weekly.append(emails[emails['action'] == 'sent_weekly_digest'].user_id.size)\n",
        "    email_open.append(emails[emails['action'] == 'email_open'].user_id.size)\n",
        "    email_click.append(emails[emails['action'] == 'email_clickthrough'].user_id.size)\n",
        "\n",
        "# plot\n",
        "x = np.arange(4)\n",
        "ax = plt.subplot(111)\n",
        "plt.bar(x-0.2, weekly, width=0.2, color='b', align='center')\n",
        "plt.bar(x, email_open, width=0.2, color='g', align='center')\n",
        "plt.bar(x+0.2, email_click, width=0.2, color='r', align='center')\n",
        "plt.xticks(x, ('May','June', 'July', 'Aug'))\n",
        "plt.xticks(rotation = 0)\n",
        "plt.title('email action difference')\n",
        "plt.legend(('weekly digest', 'open', 'clickthrough'))\n",
        "plt.show()"
      ],
      "execution_count": 9,
      "outputs": [
        {
          "output_type": "display_data",
          "data": {
            "image/png": "[encoded data removed]",
            "text/plain": [
              "<Figure size 432x288 with 1 Axes>"
            ]
          },
          "metadata": {
            "tags": [],
            "needs_background": "light"
          }
        }
      ]
    },
    {
      "cell_type": "markdown",
      "metadata": {
        "id": "cesQrhHB04Ml",
        "colab_type": "text"
      },
      "source": [
        "Following the growth pattern, weekly digest should increase. The truth is in August, the sent weekly digest is the same as the last month in July. The marketing team should check if some customers have been missed. The open rate is almost the same, but the clickthrough rate has siginificant decreased. The marketing team might also need to check their content.\n",
        "\n",
        "#### Analysis 5  Features cannot display well in somewhere?\n",
        "Notice that there are several devices to display, there is a possibility that some features cannot display well in some devices.\n"
      ]
    },
    {
      "cell_type": "code",
      "metadata": {
        "id": "JHK82Lss3QjZ",
        "colab_type": "code",
        "colab": {
          "base_uri": "https://localhost:8080/",
          "height": 153
        },
        "outputId": "5d7cd52e-e7d1-4261-ab99-a242edbc5d5b"
      },
      "source": [
        "device = df_events[(df_events.event_type=='engagement')]\n",
        "device.device.unique()\n"
      ],
      "execution_count": 10,
      "outputs": [
        {
          "output_type": "execute_result",
          "data": {
            "text/plain": [
              "array(['dell inspiron notebook', 'iphone 5', 'iphone 4s',\n",
              "       'windows surface', 'macbook air', 'iphone 5s', 'macbook pro',\n",
              "       'kindle fire', 'ipad mini', 'nexus 7', 'nexus 5',\n",
              "       'samsung galaxy s4', 'lenovo thinkpad', 'samsumg galaxy tablet',\n",
              "       'acer aspire notebook', 'asus chromebook', 'samsung galaxy note',\n",
              "       'mac mini', 'hp pavilion desktop', 'ipad air', 'htc one',\n",
              "       'dell inspiron desktop', 'amazon fire phone',\n",
              "       'acer aspire desktop', 'nokia lumia 635', 'nexus 10'], dtype=object)"
            ]
          },
          "metadata": {
            "tags": []
          },
          "execution_count": 10
        }
      ]
    },
    {
      "cell_type": "markdown",
      "metadata": {
        "id": "wDo1HYGF3n7g",
        "colab_type": "text"
      },
      "source": [
        "There are several devices to choose, group them intor three categories: mobile, desktop, tablets. Also, based on the system, categoried into IOS, Windows, and Android."
      ]
    },
    {
      "cell_type": "code",
      "metadata": {
        "id": "IFUZDRM-3wzI",
        "colab_type": "code",
        "colab": {
          "base_uri": "https://localhost:8080/",
          "height": 293
        },
        "outputId": "cccff532-a9c9-4e00-8ffd-fd93507a945c"
      },
      "source": [
        "# get categories of devices\n",
        "device = df_events[(df_events.event_type=='engagement')]\n",
        "device.device.unique()\n",
        "\n",
        "phone = ['iphone 5', 'iphone 4s', 'iphone 5s', 'samsung galaxy s4', 'htc one', 'amazon fire phone', 'nokia lumia 635']\n",
        "desktop =['dell inspiron notebook', 'windows surface', 'macbook air', 'macbook pro', 'lenovo thinkpad', 'mac mini', 'hp pavilion desktop', 'dell inspiron desktop', 'acer aspire desktop']\n",
        "tablet = ['windows surface', 'samsumg galaxy tablet', 'ipad air', 'nexus 10']\n",
        "\n",
        "IOS = ['iphone 5', 'iphone 4s', 'iphone 5s', 'macbook air', 'macbook pro', 'mac mini', 'ipad air']\n",
        "Windows = ['dell inspiron notebook', 'windows surface', 'lenovo thinkpad', 'hp pavilion desktop', 'dell inspiron desktop', 'acer aspire desktop', 'windows surface']\n",
        "Android = ['samsung galaxy s4', 'htc one', 'amazon fire phone', 'nokia lumia 635', 'samsumg galaxy tablet', 'nexus 10']\n",
        "\n",
        "\n",
        "phone_count = []\n",
        "desktop_count = []\n",
        "tablet_count = []\n",
        "IOS_count = []\n",
        "Windows_count = []\n",
        "Android_count = []\n",
        "\n",
        "# get the action counts for the four months\n",
        "for i in range(4):\n",
        "    if i == 0:\n",
        "        time_selected = time_selected_5\n",
        "    elif i == 1:\n",
        "        time_selected = time_selected_6\n",
        "    elif i == 2:\n",
        "        time_selected = time_selected_7\n",
        "    elif i == 3:\n",
        "        time_selected = time_selected_8\n",
        "    phone_count.append(np.sum([x == time_selected['device'] for x in phone]))\n",
        "    desktop_count.append(np.sum([x == time_selected['device'] for x in desktop]))\n",
        "    tablet_count.append(np.sum([x == time_selected['device'] for x in tablet]))\n",
        "    IOS_count.append(np.sum([x == time_selected['device'] for x in IOS]))\n",
        "    Windows_count.append(np.sum([x == time_selected['device'] for x in Windows]))\n",
        "    Android_count.append(np.sum([x == time_selected['device'] for x in Android]))\n",
        "\n",
        "# plot\n",
        "x = np.arange(4)\n",
        "ax = plt.subplot(211)\n",
        "plt.bar(x-0.2, phone_count, width=0.2, color='b', align='center')\n",
        "plt.bar(x, desktop_count, width=0.2, color='g', align='center')\n",
        "plt.bar(x+0.2, tablet_count, width=0.2, color='r', align='center')\n",
        "plt.xticks(x, ('May','June', 'July', 'Aug'))\n",
        "plt.xticks(rotation = 0)\n",
        "plt.title('device difference')\n",
        "plt.legend(('mobile', 'desktop', 'tablet'))\n",
        "plt.show()\n",
        "\n",
        "ax = plt.subplot(212)\n",
        "plt.bar(x-0.2, IOS_count, width=0.2, color='b', align='center')\n",
        "plt.bar(x, Windows_count, width=0.2, color='g', align='center')\n",
        "plt.bar(x+0.2, Android_count, width=0.2, color='r', align='center')\n",
        "plt.xticks(x, ('May','June', 'July', 'Aug'))\n",
        "plt.xticks(rotation = 0)\n",
        "plt.legend(('IOS', 'Windows', 'Android'))\n",
        "plt.show()"
      ],
      "execution_count": 11,
      "outputs": [
        {
          "output_type": "display_data",
          "data": {
            "image/png": "[encoded data removed]",
            "text/plain": [
              "<Figure size 432x288 with 1 Axes>"
            ]
          },
          "metadata": {
            "tags": [],
            "needs_background": "light"
          }
        },
        {
          "output_type": "display_data",
          "data": {
            "image/png": "[encoded data removed]",
            "text/plain": [
              "<Figure size 432x288 with 1 Axes>"
            ]
          },
          "metadata": {
            "tags": [],
            "needs_background": "light"
          }
        }
      ]
    },
    {
      "cell_type": "markdown",
      "metadata": {
        "id": "5Ew1lr679IWG",
        "colab_type": "text"
      },
      "source": [
        "All of them has a decrease in Aug, thus, the debice cannot be diagnosed of the user engagement trend."
      ]
    }
  ]
}